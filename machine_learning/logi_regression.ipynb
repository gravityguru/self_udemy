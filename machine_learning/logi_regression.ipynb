{
 "cells": [
  {
   "cell_type": "code",
   "execution_count": 2,
   "metadata": {},
   "outputs": [],
   "source": [
    "import numpy as np\n",
    "import matplotlib.pyplot as plt"
   ]
  },
  {
   "cell_type": "code",
   "execution_count": 3,
   "metadata": {},
   "outputs": [],
   "source": [
    "def draw(x1,x2):\n",
    "    ln = plt.plot(x1, x2)\n",
    "\n",
    "def sigmoid(score):\n",
    "    return 1/(1+np.exp(-score))\n",
    "\n",
    "def calculate_error(line_parameters, points, y):\n",
    "    m = points.shape[0]\n",
    "    p = sigmoid(points*line_parameters)\n",
    "    cross_entropy = -(1/m)*(np.log(p).T*y+np.log(1-p).T*(1-y))\n",
    "    return cross_entropy"
   ]
  },
  {
   "cell_type": "code",
   "execution_count": 16,
   "metadata": {},
   "outputs": [
    {
     "data": {
      "text/plain": [
       "array([[17.05620938, 20.9635728 ,  1.        ],\n",
       "       [11.60062883, 19.47023196,  1.        ],\n",
       "       [13.91495194,  8.09088848,  1.        ]])"
      ]
     },
     "execution_count": 16,
     "metadata": {},
     "output_type": "execute_result"
    }
   ],
   "source": [
    "n_pts = 3\n",
    "np.random.seed(0)\n",
    "bias = np.ones(n_pts)\n",
    "random_x1_values = np.random.normal(10, 4, n_pts)\n",
    "random_x2_values = np.random.normal(12, 4, n_pts)\n",
    "random_x3_values = np.random.normal(5, 4, n_pts)\n",
    "random_x4_values = np.random.normal(7, 4, n_pts)\n",
    "top_region = np.array([random_x1_values, random_x2_values, bias]).T\n",
    "bottom_region = np.array([random_x3_values, random_x4_values, bias]).T\n",
    "w1 = -0.2\n",
    "w2 = -0.35\n",
    "b = 5\n",
    "line_parameters = np.matrix ([w1, w2, b]).T\n",
    "x1 =np.array([bottom_region[:,0].min(),top_region[:,0].max()])\n",
    "#x2 =np.array([bottom_region[:,1].max(),top_region[:,1].min()])\n",
    "\n",
    "x2 = -b/w2 +x1 * (-w1 / w2)\n",
    "#w1x1+w2x2+b\n",
    "\n",
    "\n",
    "top_region"
   ]
  },
  {
   "cell_type": "code",
   "execution_count": 17,
   "metadata": {},
   "outputs": [
    {
     "data": {
      "text/plain": [
       "array([[ 8.80035367,  8.64239401,  1.        ],\n",
       "       [ 4.39457117,  7.57617428,  1.        ],\n",
       "       [ 4.58712459, 12.81709403,  1.        ]])"
      ]
     },
     "execution_count": 17,
     "metadata": {},
     "output_type": "execute_result"
    }
   ],
   "source": [
    "bottom_region"
   ]
  },
  {
   "cell_type": "code",
   "execution_count": null,
   "metadata": {},
   "outputs": [],
   "source": []
  },
  {
   "cell_type": "code",
   "execution_count": 18,
   "metadata": {},
   "outputs": [
    {
     "name": "stdout",
     "output_type": "stream",
     "text": [
      "[ 4.39457117 17.05620938] [11.77453076  4.53930892]\n"
     ]
    }
   ],
   "source": [
    "print(x1,x2)"
   ]
  },
  {
   "cell_type": "code",
   "execution_count": 19,
   "metadata": {},
   "outputs": [
    {
     "data": {
      "image/png": "[encoded data removed]",
      "text/plain": [
       "<Figure size 360x360 with 1 Axes>"
      ]
     },
     "metadata": {
      "needs_background": "light"
     },
     "output_type": "display_data"
    }
   ],
   "source": [
    "top_region = np.array([ top_region[:,0],  top_region[:,1], bias]).T\n",
    "bottom_region = np.array([bottom_region[:,0],  bottom_region[:,1], bias]).T\n",
    "all_points = np.vstack((top_region,bottom_region ))\n",
    "_, ax = plt.subplots(figsize=(5, 5))\n",
    "ax.scatter(top_region[:,0], top_region [:,1], color = 'r')\n",
    "ax.scatter(bottom_region[:,0], bottom_region [:,1], color = 'b')\n",
    "\n",
    "draw(x1, x2)\n",
    "plt.show()"
   ]
  },
  {
   "cell_type": "code",
   "execution_count": 20,
   "metadata": {},
   "outputs": [
    {
     "name": "stdout",
     "output_type": "stream",
     "text": [
      "[[17.05620938 20.9635728   1.        ]\n",
      " [11.60062883 19.47023196  1.        ]\n",
      " [13.91495194  8.09088848  1.        ]\n",
      " [ 8.80035367  8.64239401  1.        ]\n",
      " [ 4.39457117  7.57617428  1.        ]\n",
      " [ 4.58712459 12.81709403  1.        ]]\n",
      "(6, 3)\n",
      "(3, 1)\n"
     ]
    }
   ],
   "source": [
    "print(all_points)\n",
    "print(all_points.shape)\n",
    "print(line_parameters.shape)"
   ]
  },
  {
   "cell_type": "code",
   "execution_count": 21,
   "metadata": {},
   "outputs": [
    {
     "data": {
      "text/plain": [
       "matrix([[-5.74849236],\n",
       "        [-4.13470695],\n",
       "        [-0.61480136],\n",
       "        [ 0.21509136],\n",
       "        [ 1.46942477],\n",
       "        [-0.40340783]])"
      ]
     },
     "execution_count": 21,
     "metadata": {},
     "output_type": "execute_result"
    }
   ],
   "source": [
    "linear_combination = all_points * line_parameters\n",
    "linear_combination"
   ]
  },
  {
   "cell_type": "code",
   "execution_count": 22,
   "metadata": {},
   "outputs": [
    {
     "data": {
      "text/plain": [
       "matrix([[0.00317745],\n",
       "        [0.01575516],\n",
       "        [0.35096472],\n",
       "        [0.55356648],\n",
       "        [0.81296994],\n",
       "        [0.40049385]])"
      ]
     },
     "execution_count": 22,
     "metadata": {},
     "output_type": "execute_result"
    }
   ],
   "source": [
    "probabilities = sigmoid(linear_combination)\n",
    "probabilities"
   ]
  },
  {
   "cell_type": "code",
   "execution_count": 23,
   "metadata": {},
   "outputs": [
    {
     "data": {
      "text/plain": [
       "array([[0.],\n",
       "       [0.],\n",
       "       [0.],\n",
       "       [1.],\n",
       "       [1.],\n",
       "       [1.]])"
      ]
     },
     "execution_count": 23,
     "metadata": {},
     "output_type": "execute_result"
    }
   ],
   "source": [
    "y= np.array([np.zeros(n_pts), np.ones(n_pts)]).reshape(n_pts*2, 1) # used for entropy calculation\n",
    "y"
   ]
  },
  {
   "cell_type": "code",
   "execution_count": 24,
   "metadata": {},
   "outputs": [
    {
     "name": "stdout",
     "output_type": "stream",
     "text": [
      "[[0.36080379]]\n"
     ]
    }
   ],
   "source": [
    "print(calculate_error(line_parameters, all_points, y))"
   ]
  }
 ],
 "metadata": {
  "kernelspec": {
   "display_name": "Python 3",
   "language": "python",
   "name": "python3"
  },
  "language_info": {
   "codemirror_mode": {
    "name": "ipython",
    "version": 3
   },
   "file_extension": ".py",
   "mimetype": "text/x-python",
   "name": "python",
   "nbconvert_exporter": "python",
   "pygments_lexer": "ipython3",
   "version": "3.7.3"
  }
 },
 "nbformat": 4,
 "nbformat_minor": 4
}
